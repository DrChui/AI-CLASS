{
  "nbformat": 4,
  "nbformat_minor": 0,
  "metadata": {
    "colab": {
      "provenance": []
    },
    "kernelspec": {
      "name": "python3",
      "display_name": "Python 3"
    },
    "language_info": {
      "name": "python"
    }
  },
  "cells": [
    {
      "cell_type": "code",
      "execution_count": null,
      "metadata": {
        "id": "EUfywmSfcHHr"
      },
      "outputs": [],
      "source": []
    },
    {
      "cell_type": "code",
      "source": [
        "from google.colab import drive\n",
        "drive.mount ('/content/drive')"
      ],
      "metadata": {
        "colab": {
          "base_uri": "https://localhost:8080/"
        },
        "id": "SMl9j3fsrtL9",
        "outputId": "1891b131-5e49-4822-a4c6-d3607bcad75a"
      },
      "execution_count": null,
      "outputs": [
        {
          "output_type": "stream",
          "name": "stdout",
          "text": [
            "Drive already mounted at /content/drive; to attempt to forcibly remount, call drive.mount(\"/content/drive\", force_remount=True).\n"
          ]
        }
      ]
    },
    {
      "cell_type": "code",
      "source": [
        "import re\n",
        "from collections import Counter\n",
        "\n",
        "def analyze_text(file_path):\n",
        "    try:\n",
        "        with open(file_path, 'r', encoding='utf-8') as file:\n",
        "            text = file.read()\n",
        "\n",
        "            # Count the number of words, sentences, and paragraphs.\n",
        "            num_words = len(re.findall(r'\\w+', text))\n",
        "            num_sentences = len(re.split(r'[.!?]+', text))\n",
        "            num_paragraphs = len(re.split(r'\\n\\n+', text))\n",
        "\n",
        "            # Calculate the average word length.\n",
        "            words = re.findall(r'\\w+', text)\n",
        "            total_word_length = sum(len(word) for word in words)\n",
        "            avg_word_length = total_word_length / num_words if num_words > 0 else 0\n",
        "\n",
        "            # Identify the most common words and their frequencies.\n",
        "            word_counts = Counter(words)\n",
        "            most_common_words = word_counts.most_common(10)  # Change 10 to the desired number of common words.\n",
        "\n",
        "            # Return the analysis results as a dictionary.\n",
        "            analysis_results = {\n",
        "                'num_words': num_words,\n",
        "                'num_sentences': num_sentences,\n",
        "                'num_paragraphs': num_paragraphs,\n",
        "                'avg_word_length': avg_word_length,\n",
        "                'most_common_words': most_common_words\n",
        "            }\n",
        "\n",
        "            return analysis_results\n",
        "\n",
        "    except FileNotFoundError:\n",
        "        print(\"File not found.\")\n",
        "        return None\n",
        "\n",
        "if __name__ == \"__main__\":\n",
        "    file_path = 'content/drive/MyDrive/PKMN HISTORY.txt'  # Replace with the path to your text file.\n",
        "    results = analyze_text(file_path)\n",
        "\n",
        "    if results:\n",
        "        print('Number of words:', results['num_words'])\n",
        "        print('Number of sentences:', results['num_sentences'])\n",
        "        print('Number of paragraphs:', results['num_paragraphs'])\n",
        "        print('Average word length:', results['avg_word_length'])\n",
        "        print('Most common words:')\n",
        "        for word, frequency in results['most_common_words']:\n",
        "            print(f'{word}: {frequency}')\n"
      ],
      "metadata": {
        "colab": {
          "base_uri": "https://localhost:8080/"
        },
        "id": "-ONhjKJFcHtK",
        "outputId": "a758a9dd-05f4-40a3-aafc-de27815cf52a"
      },
      "execution_count": 94,
      "outputs": [
        {
          "output_type": "stream",
          "name": "stdout",
          "text": [
            "File not found.\n"
          ]
        }
      ]
    },
    {
      "cell_type": "code",
      "source": [
        "import random\n",
        "\n",
        "# Define a list of words to choose from\n",
        "words = [\"apple\", \"mario\", \"cat\", \"basketball\", \"speaker\", \"headphones\", \"bumblebee\", \"sneakers\", \"jordan\", \"yellow\", \"cap\"]\n",
        "\n",
        "# Choose a random word from the list\n",
        "secret_word = random.choice(words)\n",
        "\n",
        "# Initialize the number of guesses remaining\n",
        "guesses_remaining = 10\n",
        "\n",
        "# Initialize the guessed letters list\n",
        "guessed_letters = []\n",
        "\n",
        "# Start the game loop\n",
        "while guesses_remaining > 0:\n",
        "    # Print the current state of the secret word\n",
        "    print(\"The word is:\", end=\" \")\n",
        "    for letter in secret_word:\n",
        "        if letter in guessed_letters:\n",
        "            print(letter, end=\"\")\n",
        "        else:\n",
        "            print(\"_\", end=\"\")\n",
        "    print()\n",
        "\n",
        "    # Prompt the user for a guess\n",
        "    guess = input(\"Guess a letter: \")\n",
        "\n",
        "    # Check if the guess is correct\n",
        "    if guess in secret_word and guess not in guessed_letters:\n",
        "        print(\"Correct!\")\n",
        "        guessed_letters.append(guess)\n",
        "\n",
        "        # Check if the word has been guessed\n",
        "        if all(letter in guessed_letters for letter in secret_word):\n",
        "            print(\"You win!\")\n",
        "            break\n",
        "    else:\n",
        "        print(\"Incorrect!\")\n",
        "        guesses_remaining -= 1\n",
        "\n",
        "# If the word hasn't been guessed, the player loses\n",
        "if guesses_remaining == 0:\n",
        "    print(\"You lose! The secret word was:\", secret_word)\n"
      ],
      "metadata": {
        "colab": {
          "base_uri": "https://localhost:8080/"
        },
        "id": "uuvpw-kIfI-f",
        "outputId": "9b526068-ba11-4814-8918-24e4bd40d060"
      },
      "execution_count": null,
      "outputs": [
        {
          "output_type": "stream",
          "name": "stdout",
          "text": [
            "The word is: _____\n",
            "Guess a letter: a\n",
            "Correct!\n",
            "The word is: _a___\n",
            "Guess a letter: c\n",
            "Incorrect!\n",
            "The word is: _a___\n",
            "Guess a letter: m\n",
            "Correct!\n",
            "The word is: ma___\n",
            "Guess a letter: r\n",
            "Correct!\n",
            "The word is: mar__\n",
            "Guess a letter: i\n",
            "Correct!\n",
            "The word is: mari_\n",
            "Guess a letter: o\n",
            "Correct!\n",
            "You win!\n"
          ]
        }
      ]
    },
    {
      "cell_type": "code",
      "source": [
        "import random\n",
        "\n",
        "# Generate a random number between 1 and 100\n",
        "target_number = random.randint(1, 100)\n",
        "\n",
        "# Initialize the number of guesses\n",
        "num_guesses = 0\n",
        "\n",
        "# Keep asking the user for a guess until they guess correctly\n",
        "while True:\n",
        "\n",
        "    # Get the user's guess\n",
        "    user_guess = int(input(\"Guess a number between 1 and 100: \"))\n",
        "\n",
        "    # Increment the number of guesses\n",
        "    num_guesses += 1\n",
        "\n",
        "    # Check if the user's guess is correct\n",
        "    if user_guess == target_number:\n",
        "        print(\"Congratulations! You guessed the correct number in {} guesses!\".format(num_guesses))\n",
        "        break\n",
        "\n",
        "    # If the user's guess is incorrect, provide a hint\n",
        "    elif user_guess < target_number:\n",
        "        print(\"Your guess is too low.\")\n",
        "    else:\n",
        "        print(\"Your guess is too high.\")\n"
      ],
      "metadata": {
        "colab": {
          "base_uri": "https://localhost:8080/"
        },
        "id": "Y3MviudAf_FA",
        "outputId": "89e94387-789d-4856-d29b-74630d015a68"
      },
      "execution_count": null,
      "outputs": [
        {
          "output_type": "stream",
          "name": "stdout",
          "text": [
            "Guess a number between 1 and 100: 4\n",
            "Your guess is too low.\n",
            "Guess a number between 1 and 100: 21\n",
            "Your guess is too low.\n",
            "Guess a number between 1 and 100: 65\n",
            "Your guess is too high.\n",
            "Guess a number between 1 and 100: 43\n",
            "Your guess is too high.\n",
            "Guess a number between 1 and 100: 33\n",
            "Your guess is too low.\n",
            "Guess a number between 1 and 100: 37\n",
            "Your guess is too high.\n",
            "Guess a number between 1 and 100: 35\n",
            "Your guess is too high.\n",
            "Guess a number between 1 and 100: 34\n",
            "Congratulations! You guessed the correct number in 8 guesses!\n"
          ]
        }
      ]
    }
  ]
}